{
 "cells": [
  {
   "cell_type": "markdown",
   "id": "7ab4f3e2",
   "metadata": {},
   "source": [
    "# Atlassian Jira Jupyter Tests: jira_copy_components_from_A_to_B.py\n"
   ]
  },
	{
	   "cell_type": "code",
	   "execution_count": null,
	   "id": "a94cd0d0",
	   "metadata": {},
	   "outputs": [],
	   "source": ["# coding=utf-8\n",
"from atlassian import Jira\n",
"\n",
"jira = Jira(url="http://localhost:8080/", username="jira-administrator", password="admin")\n",
"\n",
""""That example show how to copy components from one project into another"""\n",
"\n",
"DST_PROJECT = "PROJECT_B"\n",
"SRC_PROJECT = "PROJECT_A"\n",
"components = jira.get_project_components(SRC_PROJECT)\n",
"\n",
"for component in components:\n",
"    data = {\n",
"        "project": DST_PROJECT,\n",
"        "description": component.get("description"),\n",
"        "leadUserName": component.get("leadUserName"),\n",
"        "name": component.get("name"),\n",
"        "assigneeType": component.get("assigneeType"),\n",
"    }\n",
"    jira.create_component(data)\n",
"    print("{} - component created ".format(component.get("name")))\n",]
	}
 ],
 "metadata": {
  "kernelspec": {
   "display_name": "Python 3 (ipykernel)",
   "language": "python",
   "name": "python3"
  },
  "language_info": {
   "codemirror_mode": {
    "name": "ipython",
    "version": 3
   },
   "file_extension": ".py",
   "mimetype": "text/x-python",
   "name": "python",
   "nbconvert_exporter": "python",
   "pygments_lexer": "ipython3",
   "version": "3.9.9"
  }
 },
 "nbformat": 4,
 "nbformat_minor": 5
}
