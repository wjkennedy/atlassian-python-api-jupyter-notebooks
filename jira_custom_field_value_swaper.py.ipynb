{
 "cells": [
  {
   "cell_type": "markdown",
   "id": "7ab4f3e2",
   "metadata": {},
   "source": [
    "# Atlassian Jira Jupyter Tests: jira_custom_field_value_swaper.py\n"
   ]
  },
	{
	   "cell_type": "code",
	   "execution_count": null,
	   "id": "a10278f1",
	   "metadata": {},
	   "outputs": [],
	   "source": ["# coding=utf-8\n",
"from atlassian import Jira\n",
"\n",
"# This example shoes how to copy custom field value from on issue to another\n",
"# define custom field id, in notation customfield_id\n",
"\n",
"custom_field_id = "customfield_102589"\n",
"source_issue_key = "TST-1"\n",
"destination_issue_key = "TST-2"\n",
"\n",
"jira = Jira(url="http://localhost:8080", username="admin", password="admin")\n",
"\n",
"# get value and save\n",
"customfield_value = jira.issue_field_value(source_issue_key, custom_field_id)\n",
"# prepare data like this https://developer.atlassian.com/server/jira/platform/jira-rest-api-example-edit-issues-6291632\n",
"custom_field_preparation = {custom_field_id: customfield_value}\n",
"# update custom field on destination issue\n",
"jira.update_issue_field(destination_issue_key, custom_field_preparation)\n",]
	}
 ],
 "metadata": {
  "kernelspec": {
   "display_name": "Python 3 (ipykernel)",
   "language": "python",
   "name": "python3"
  },
  "language_info": {
   "codemirror_mode": {
    "name": "ipython",
    "version": 3
   },
   "file_extension": ".py",
   "mimetype": "text/x-python",
   "name": "python",
   "nbconvert_exporter": "python",
   "pygments_lexer": "ipython3",
   "version": "3.9.9"
  }
 },
 "nbformat": 4,
 "nbformat_minor": 5
}
