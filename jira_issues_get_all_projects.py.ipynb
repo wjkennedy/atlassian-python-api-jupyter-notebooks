{
 "cells": [
  {
   "cell_type": "markdown",
   "id": "7ab4f3e2",
   "metadata": {},
   "source": [
    "# Atlassian Jira Jupyter Tests: jira_issues_get_all_projects.py\n"
   ]
  },
	{
	   "cell_type": "code",
	   "execution_count": null,
	   "id": "16d23e51",
	   "metadata": {},
	   "outputs": [],
	   "source": ["# coding=utf-8\n",
""""\n",
"    Getting Project Issue(s) example\n",
""""\n",
"\n",
"\n",
"from atlassian import Jira\n",
"\n",
"\n",
"jira = Jira(url="https://jirasite.co", username="ocean", password="seariver")\n",
"\n",
"\n",
"if __name__ == "__main__":\n",
"    # default will return 50 issues in ascending order\n",
"    project_issues_default_50 = jira.get_all_project_issues(project="APA")\n",
"    # We can increase the limit by specifying the limit\n",
"    project_issues_100 = jira.get_all_project_issues(project="APA", limit=100)\n",
"    # Specifying specific fields other than the default jira fields returned\n",
"    project_issues_specific = jira.get_all_project_issues(project="APA", fields=["description", "summary"], limit=100)\n",]
	}
 ],
 "metadata": {
  "kernelspec": {
   "display_name": "Python 3 (ipykernel)",
   "language": "python",
   "name": "python3"
  },
  "language_info": {
   "codemirror_mode": {
    "name": "ipython",
    "version": 3
   },
   "file_extension": ".py",
   "mimetype": "text/x-python",
   "name": "python",
   "nbconvert_exporter": "python",
   "pygments_lexer": "ipython3",
   "version": "3.9.9"
  }
 },
 "nbformat": 4,
 "nbformat_minor": 5
}
