{
 "cells": [
  {
   "cell_type": "markdown",
   "id": "7ab4f3e2",
   "metadata": {},
   "source": [
    "# Atlassian Jira Jupyter Tests: jira_tempo_account_customers.py\n"
   ]
  },
	{
	   "cell_type": "code",
	   "execution_count": null,
	   "id": "cb48b1a4",
	   "metadata": {},
	   "outputs": [],
	   "source": ["# coding: utf8\n",
"from atlassian import Jira\n",
"\n",
"jira = Jira(url="http://localhost:8080", username="admin", password="admin")\n",
"\n",
"results = jira.tempo_account_get_customers()\n",
"print("Count of Customers  " + str(len(results)))\n",
"\n",
"for result in results:\n",
"    print(result.get("key"), " ", result.get("name"))\n",]
	}
 ],
 "metadata": {
  "kernelspec": {
   "display_name": "Python 3 (ipykernel)",
   "language": "python",
   "name": "python3"
  },
  "language_info": {
   "codemirror_mode": {
    "name": "ipython",
    "version": 3
   },
   "file_extension": ".py",
   "mimetype": "text/x-python",
   "name": "python",
   "nbconvert_exporter": "python",
   "pygments_lexer": "ipython3",
   "version": "3.9.9"
  }
 },
 "nbformat": 4,
 "nbformat_minor": 5
}
