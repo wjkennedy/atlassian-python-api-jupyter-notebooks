{
 "cells": [
  {
   "cell_type": "markdown",
   "id": "7ab4f3e2",
   "metadata": {},
   "source": [
    "# Atlassian Jira Jupyter Tests: jira_tempo_timesheet_worklogs.py\n"
   ]
  },
	{
	   "cell_type": "code",
	   "execution_count": null,
	   "id": "60976ebd",
	   "metadata": {},
	   "outputs": [],
	   "source": ["# coding=utf-8\n",
"import logging\n",
"from pprint import pprint\n",
"\n",
"from atlassian import Jira\n",
"\n",
"jira = Jira(\n",
"    url="http://localhost:8080",\n",
"    username="admin",\n",
"    password="admin",\n",
"    # You can use it without advanced mode.\n",
"    advanced_mode=True,\n",
")\n",
"\n",
"logging.basicConfig(level=logging.DEBUG)\n",
"# deprecated_issue_worklog = jira.tempo_timesheets_get_worklogs_by_issue("PROJ-1234")\n",
"latest_issue_worklog = jira.tempo_4_timesheets_find_worklogs(taskKey=["PROJ-1234"])\n",
"# pprint(deprecated_issue_worklog.json())\n",
"pprint(latest_issue_worklog.json())\n",]
	}
 ],
 "metadata": {
  "kernelspec": {
   "display_name": "Python 3 (ipykernel)",
   "language": "python",
   "name": "python3"
  },
  "language_info": {
   "codemirror_mode": {
    "name": "ipython",
    "version": 3
   },
   "file_extension": ".py",
   "mimetype": "text/x-python",
   "name": "python",
   "nbconvert_exporter": "python",
   "pygments_lexer": "ipython3",
   "version": "3.9.9"
  }
 },
 "nbformat": 4,
 "nbformat_minor": 5
}
