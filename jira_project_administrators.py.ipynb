{
 "cells": [
  {
   "cell_type": "markdown",
   "id": "7ab4f3e2",
   "metadata": {},
   "source": [
    "# Atlassian Jira Jupyter Tests: jira_project_administrators.py\n"
   ]
  },
	{
	   "cell_type": "code",
	   "execution_count": null,
	   "id": "da551d0a",
	   "metadata": {},
	   "outputs": [],
	   "source": ["# coding=utf-8\n",
"from atlassian import Jira\n",
"\n",
"jira = Jira(url="http://localhost:8080", username="admin", password="admin")\n",
"\n",
"html = """<table>\n",
"                <tr>\n",
"                    <th>Project Key</th>\n",
"                    <th>Project Name</th>\n",
"                    <th>Leader</th>\n",
"                    <th>Email</th>\n",
"                </tr>"""\n",
"\n",
"for data in jira.project_leaders():\n",
"    html += """<tr>\n",
"                    <td>{project_key}</td>\n",
"                    <td>{project_name}</td>\n",
"                    <td>{lead_name}</td>\n",
"                    <td><a href="mailto:{lead_email}">{lead_email}</a></td>\n",
"                </tr>""".format(\n",
"        **data\n",
"    )\n",
"\n",
"html += "</table>"\n",
"\n",
"print(html)\n",]
	}
 ],
 "metadata": {
  "kernelspec": {
   "display_name": "Python 3 (ipykernel)",
   "language": "python",
   "name": "python3"
  },
  "language_info": {
   "codemirror_mode": {
    "name": "ipython",
    "version": 3
   },
   "file_extension": ".py",
   "mimetype": "text/x-python",
   "name": "python",
   "nbconvert_exporter": "python",
   "pygments_lexer": "ipython3",
   "version": "3.9.9"
  }
 },
 "nbformat": 4,
 "nbformat_minor": 5
}
