{
 "cells": [
  {
   "cell_type": "markdown",
   "id": "7ab4f3e2",
   "metadata": {},
   "source": [
    "# Atlassian Jira Jupyter Tests: jira_issues_csv_export.py\n"
   ]
  },
	{
	   "cell_type": "code",
	   "execution_count": null,
	   "id": "ccc5da13",
	   "metadata": {},
	   "outputs": [],
	   "source": ["# coding=utf-8\n",
""""\n",
"    jira issues export to CSV - all or current.\n",
"    default is ALL\n",
"    below example uses the current fields\n",
""""\n",
"\n",
"from atlassian import Jira\n",
"\n",
"\n",
"def main():\n",
"    jira = Jira("http://localhost:8080", username="admin", password="admin")\n",
"    csv_issues = jira.csv(\n",
"        jql='project = "APA" and "Epic Link" = APA-3 ORDER BY created DESC',\n",
"        all_fields=False,\n",
"    )\n",
"    with open("data.csv", "wb") as file_obj:\n",
"        file_obj.write(csv_issues)\n",
"\n",
"\n",
"if __name__ == "__main__":\n",
"    main()\n",]
	}
 ],
 "metadata": {
  "kernelspec": {
   "display_name": "Python 3 (ipykernel)",
   "language": "python",
   "name": "python3"
  },
  "language_info": {
   "codemirror_mode": {
    "name": "ipython",
    "version": 3
   },
   "file_extension": ".py",
   "mimetype": "text/x-python",
   "name": "python",
   "nbconvert_exporter": "python",
   "pygments_lexer": "ipython3",
   "version": "3.9.9"
  }
 },
 "nbformat": 4,
 "nbformat_minor": 5
}
