{
 "cells": [
  {
   "cell_type": "markdown",
   "id": "7ab4f3e2",
   "metadata": {},
   "source": [
    "# Atlassian Jira Jupyter Tests: jira_clean_inactive_or_removed_from_jira_users.py\n"
   ]
  },
	{
	   "cell_type": "code",
	   "execution_count": null,
	   "id": "b9908510",
	   "metadata": {},
	   "outputs": [],
	   "source": ["from atlassian import Jira\n",
"import logging\n",
"\n",
""""\n",
"    That example related to the cleanup inactive users from project role configurations\n",
""""\n",
"\n",
"logging.basicConfig(level=logging.ERROR)\n",
"\n",
"jira = Jira(url="JIRA_URL", username="ATLASSIAN_USER", password="ATLASSIAN_PASSWORD")\n",
"\n",
"\n",
"# Ger all role ids from Jira\n",
"role_ids = []\n",
"roles = jira.get_all_global_project_roles()\n",
"for role in roles:\n",
"    role_ids.append(role.get("id"))\n",
"\n",
"projects = jira.get_all_projects(included_archived=True)\n",
"\n",
"for project in projects:\n",
"    project_key = project.get("key")\n",
"    print("Start review project {}".format(project_key))\n",
"    for role_id in role_ids:\n",
"        actors = jira.get_project_actors_for_role_project(project_key, role_id)\n",
"        for actor in actors:\n",
"            if actor["type"] == "atlassian-user-role-actor":\n",
"                username = actor["name"]\n",
"                if username is None:\n",
"                    continue\n",
"                answer = jira.user(username)\n",
"                if answer.get("errorMessages") or (not answer.get("active")):\n",
"                    print("Removing from project permissions {}".format(username))\n",
"                    jira.delete_project_actors(project_key, role_id=role_id, actor=username, actor_type="user")\n",]
	}
 ],
 "metadata": {
  "kernelspec": {
   "display_name": "Python 3 (ipykernel)",
   "language": "python",
   "name": "python3"
  },
  "language_info": {
   "codemirror_mode": {
    "name": "ipython",
    "version": 3
   },
   "file_extension": ".py",
   "mimetype": "text/x-python",
   "name": "python",
   "nbconvert_exporter": "python",
   "pygments_lexer": "ipython3",
   "version": "3.9.9"
  }
 },
 "nbformat": 4,
 "nbformat_minor": 5
}
