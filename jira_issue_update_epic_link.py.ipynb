{
 "cells": [
  {
   "cell_type": "markdown",
   "id": "7ab4f3e2",
   "metadata": {},
   "source": [
    "# Atlassian Jira Jupyter Tests: jira_issue_update_epic_link.py\n"
   ]
  },
	{
	   "cell_type": "code",
	   "execution_count": null,
	   "id": "49d25548",
	   "metadata": {},
	   "outputs": [],
	   "source": [""""\n",
"    Update the Epic Link for issue(s)\n",
""""\n",
"\n",
"\n",
"from atlassian.jira import Jira\n",
"\n",
"# the Issues which we want to place to a certain EPIC\n",
"update_issues = ["ARA-1233", "ARA-1234"]\n",
"\n",
"\n",
"def main():\n",
"    jira = Jira(url="http://localhost:2990/", username="user", password="pass123")\n",
"    epic_link_custom_field_id = "customfield_1404"  # Epic Link Custom Field\n",
"    target_epic_issue_key = "ARA-1314"\n",
"    for issue_key in update_issues:\n",
"        jira.update_issue_field(issue_key, fields={epic_link_custom_field_id: target_epic_issue_key})\n",
"        print("updated for {}".format(issue_key))\n",
"    print("done")\n",
"\n",
"\n",
"if __name__ == "__main__":\n",
"    main()\n",]
	}
 ],
 "metadata": {
  "kernelspec": {
   "display_name": "Python 3 (ipykernel)",
   "language": "python",
   "name": "python3"
  },
  "language_info": {
   "codemirror_mode": {
    "name": "ipython",
    "version": 3
   },
   "file_extension": ".py",
   "mimetype": "text/x-python",
   "name": "python",
   "nbconvert_exporter": "python",
   "pygments_lexer": "ipython3",
   "version": "3.9.9"
  }
 },
 "nbformat": 4,
 "nbformat_minor": 5
}
