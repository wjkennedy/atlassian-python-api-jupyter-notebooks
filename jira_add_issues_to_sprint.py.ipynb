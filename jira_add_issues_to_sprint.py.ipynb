{
 "cells": [
  {
   "cell_type": "markdown",
   "id": "7ab4f3e2",
   "metadata": {},
   "source": [
    "# Atlassian Jira Jupyter Tests: jira_add_issues_to_sprint.py\n"
   ]
  },
	{
	   "cell_type": "code",
	   "execution_count": null,
	   "id": "333da7a3",
	   "metadata": {},
	   "outputs": [],
	   "source": ["from atlassian import Jira\n",
"\n",
"# Issues can be 1 or more\n",
"issues_lst = ["APA-1", "APA-2"]\n",
"sprint_id = 103\n",
"\n",
"jira = Jira(url="http://localhost:8080", username="admin", password="admin")\n",
"\n",
"resp = jira.add_issues_to_sprint(sprint_id=sprint_id, issues=issues_lst)\n",]
	}
 ],
 "metadata": {
  "kernelspec": {
   "display_name": "Python 3 (ipykernel)",
   "language": "python",
   "name": "python3"
  },
  "language_info": {
   "codemirror_mode": {
    "name": "ipython",
    "version": 3
   },
   "file_extension": ".py",
   "mimetype": "text/x-python",
   "name": "python",
   "nbconvert_exporter": "python",
   "pygments_lexer": "ipython3",
   "version": "3.9.9"
  }
 },
 "nbformat": 4,
 "nbformat_minor": 5
}
