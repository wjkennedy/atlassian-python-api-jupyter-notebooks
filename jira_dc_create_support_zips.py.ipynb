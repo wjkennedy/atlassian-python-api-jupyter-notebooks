{
 "cells": [
  {
   "cell_type": "markdown",
   "id": "7ab4f3e2",
   "metadata": {},
   "source": [
    "# Atlassian Jira Jupyter Tests: jira_dc_create_support_zips.py\n"
   ]
  },
	{
	   "cell_type": "code",
	   "execution_count": null,
	   "id": "9b9aa8a3",
	   "metadata": {},
	   "outputs": [],
	   "source": ["# coding=utf-8\n",
"from atlassian import Jira\n",
"\n",
"jira = Jira(url="http://localhost:2990", username="mskymoore", password="admin")\n",
"\n",
"alive_node_ids = [_["nodeId"] for _ in jira.get_cluster_alive_nodes()]\n",
"\n",
"zips_creation_task_id = jira.generate_support_zip_on_nodes(alive_node_ids)["clusterTaskId"]\n",
"\n",
"in_progress_zips = list()\n",
"\n",
"while True:\n",
"\n",
"    for task in jira.check_support_zip_status(zips_creation_task_id)["tasks"]:\n",
"\n",
"        if task["status"] == "IN_PROGRESS":\n",
"            print("file {} {}".format(task["fileName"], task["progressMessage"]))\n",
"\n",
"            if task["fileName"] not in in_progress_zips:\n",
"                in_progress_zips.append(task["fileName"])\n",
"\n",
"        else:\n",
"            support_zip = jira.download_support_zip(task["fileName"])\n",
"\n",
"            with open(task["fileName"], "wb") as fp:\n",
"                fp.write(support_zip)\n",
"\n",
"            print("{} written.".format(task["fileName"]))\n",
"\n",
"            if task["fileName"] in in_progress_zips:\n",
"                in_progress_zips.remove(task["fileName"])\n",
"\n",
"    if len(in_progress_zips) == 0:\n",
"        break\n",]
	}
 ],
 "metadata": {
  "kernelspec": {
   "display_name": "Python 3 (ipykernel)",
   "language": "python",
   "name": "python3"
  },
  "language_info": {
   "codemirror_mode": {
    "name": "ipython",
    "version": 3
   },
   "file_extension": ".py",
   "mimetype": "text/x-python",
   "name": "python",
   "nbconvert_exporter": "python",
   "pygments_lexer": "ipython3",
   "version": "3.9.9"
  }
 },
 "nbformat": 4,
 "nbformat_minor": 5
}
