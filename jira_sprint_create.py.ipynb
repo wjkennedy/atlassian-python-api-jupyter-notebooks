{
 "cells": [
  {
   "cell_type": "markdown",
   "id": "7ab4f3e2",
   "metadata": {},
   "source": [
    "# Atlassian Jira Jupyter Tests: jira_sprint_create.py\n"
   ]
  },
	{
	   "cell_type": "code",
	   "execution_count": null,
	   "id": "1c97965f",
	   "metadata": {},
	   "outputs": [],
	   "source": ["from atlassian import Jira\n",
"\n",
"sprint_name = "Sprint 2"\n",
"origin_board_id = 1000\n",
"start_datetime = "2021-05-30T14:42:23.643068"\n",
"end_datetime = "2021-06-30T14:42:23.643068"\n",
"goal = "And we're out of beta, we're releasing on time."\n",
"\n",
"jira = Jira(url="http://localhost:8080", username="admin", password="admin")\n",
"\n",
"# name and board_id are mandatory only\n",
"# Necessary for user to have `Manage Sprint` permission for the board\n",
"resp = jira.create_sprint(\n",
"    name=sprint_name,\n",
"    board_id=origin_board_id,\n",
"    start_date=start_datetime,\n",
"    end_date=end_datetime,\n",
"    goal=goal,\n",
")\n",]
	}
 ],
 "metadata": {
  "kernelspec": {
   "display_name": "Python 3 (ipykernel)",
   "language": "python",
   "name": "python3"
  },
  "language_info": {
   "codemirror_mode": {
    "name": "ipython",
    "version": 3
   },
   "file_extension": ".py",
   "mimetype": "text/x-python",
   "name": "python",
   "nbconvert_exporter": "python",
   "pygments_lexer": "ipython3",
   "version": "3.9.9"
  }
 },
 "nbformat": 4,
 "nbformat_minor": 5
}
