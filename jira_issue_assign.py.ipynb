{
 "cells": [
  {
   "cell_type": "markdown",
   "id": "7ab4f3e2",
   "metadata": {},
   "source": [
    "# Atlassian Jira Jupyter Tests: jira_issue_assign.py\n"
   ]
  },
	{
	   "cell_type": "code",
	   "execution_count": null,
	   "id": "ad6017b0",
	   "metadata": {},
	   "outputs": [],
	   "source": ["# coding=utf8\n",
""""\n",
"    Assign/Reassign a Jira Issue to a user with the account_id\n",
""""\n",
"\n",
"from atlassian import Jira\n",
"\n",
"jira = Jira(url="http://localhost:2990/", username="roger", password="federer")\n",
"\n",
"if __name__ == "__main__":\n",
"    assign_issue = jira.assign_issue(issue="APA-555", account_id="rfederer")\n",]
	}
 ],
 "metadata": {
  "kernelspec": {
   "display_name": "Python 3 (ipykernel)",
   "language": "python",
   "name": "python3"
  },
  "language_info": {
   "codemirror_mode": {
    "name": "ipython",
    "version": 3
   },
   "file_extension": ".py",
   "mimetype": "text/x-python",
   "name": "python",
   "nbconvert_exporter": "python",
   "pygments_lexer": "ipython3",
   "version": "3.9.9"
  }
 },
 "nbformat": 4,
 "nbformat_minor": 5
}
