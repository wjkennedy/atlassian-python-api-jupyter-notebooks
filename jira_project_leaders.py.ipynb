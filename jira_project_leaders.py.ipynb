{
 "cells": [
  {
   "cell_type": "markdown",
   "id": "7ab4f3e2",
   "metadata": {},
   "source": [
    "# Atlassian Jira Jupyter Tests: jira_project_leaders.py\n"
   ]
  },
	{
	   "cell_type": "code",
	   "execution_count": null,
	   "id": "8920e2fc",
	   "metadata": {},
	   "outputs": [],
	   "source": ["# coding=utf-8\n",
"from urllib.parse import quote\n",
"\n",
"from atlassian import Jira\n",
"\n",
"jira = Jira(url="http://localhost:8080", username="admin", password="admin")\n",
"\n",
"EMAIL_SUBJECT = quote("Jira access to project {project_key}")\n",
"EMAIL_BODY = quote(\n",
"    """I am asking for access to the {project_key} project in Jira.\n",
"\n",
"To give me the appropriate permissions, assign me to a role on the page:\n",
"http://localhost:8080/plugins/servlet/project-config/{project_key}/roles\n",
"\n",
"Role:\n",
"Users - read-only access + commenting\n",
"Developers - work on tasks, editing, etc.\n",
"Admin - Change of configuration and the possibility of starting sprints"""\n",
")\n",
"\n",
"MAILTO = '<a href="mailto:{lead_email}?subject={email_subject}&body={email_body}">{lead_name}</a>'\n",
"\n",
"print("|| Project Key || Project Name || Ask for Access ||")\n",
"\n",
"for project in jira.project_leaders():\n",
"    print(\n",
"        "| {project_key} | {project_name} | {lead_email_link} |".format(\n",
"            project_key=project["project_key"],\n",
"            project_name=project["project_name"],\n",
"            lead_email_link=MAILTO.format(lead_name=project["lead_name"], lead_email=project["lead_email"]),\n",
"        )\n",
"    )\n",]
	}
 ],
 "metadata": {
  "kernelspec": {
   "display_name": "Python 3 (ipykernel)",
   "language": "python",
   "name": "python3"
  },
  "language_info": {
   "codemirror_mode": {
    "name": "ipython",
    "version": 3
   },
   "file_extension": ".py",
   "mimetype": "text/x-python",
   "name": "python",
   "nbconvert_exporter": "python",
   "pygments_lexer": "ipython3",
   "version": "3.9.9"
  }
 },
 "nbformat": 4,
 "nbformat_minor": 5
}
