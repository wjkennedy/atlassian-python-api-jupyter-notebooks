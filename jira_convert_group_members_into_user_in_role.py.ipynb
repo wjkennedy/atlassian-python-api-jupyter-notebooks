{
 "cells": [
  {
   "cell_type": "markdown",
   "id": "7ab4f3e2",
   "metadata": {},
   "source": [
    "# Atlassian Jira Jupyter Tests: jira_convert_group_members_into_user_in_role.py\n"
   ]
  },
	{
	   "cell_type": "code",
	   "execution_count": null,
	   "id": "60812c62",
	   "metadata": {},
	   "outputs": [],
	   "source": ["import logging\n",
"\n",
"from atlassian import Jira\n",
"\n",
"logging.basicConfig(level=logging.ERROR)\n",
"\n",
"jira = Jira(url="http://localhost:8080", username="admin", password="admin")\n",
"\n",
""""That example show how to copy group members into role members"""\n",
"\n",
"\n",
"def convert_group_into_users_in_role(project_key, role_id, group_name):\n",
"    users = jira.get_all_users_from_group(group=group_name, limit=1000).get("values")\n",
"    for user in users:\n",
"        jira.add_user_into_project_role(project_key=project_key, role_id=role_id, user_name=user.get("name"))\n",
"        print("{} added into role_id  {} in {}".format(user.get("name"), role_id, project_key))\n",
"\n",
"\n",
"group_name_to_find = "old-developers"\n",
"roles = jira.get_all_global_project_roles()\n",
"projects = jira.get_all_projects(included_archived=True)\n",
"for project in projects:\n",
"    for role in roles:\n",
"        members_of_role = jira.get_project_actors_for_role_project(project.get("key"), role.get("id"))\n",
"        if not members_of_role:\n",
"            continue\n",
"        for member in members_of_role:\n",
"            if member.get("type") == "atlassian-group-role-actor":\n",
"                if member.get("name") == group_name_to_find:\n",
"                    print("{} has {}".format(project.get("key"), role.get("name")))\n",
"                    convert_group_into_users_in_role(project.get("key"), role.get("id"), group_name_to_find)\n",]
	}
 ],
 "metadata": {
  "kernelspec": {
   "display_name": "Python 3 (ipykernel)",
   "language": "python",
   "name": "python3"
  },
  "language_info": {
   "codemirror_mode": {
    "name": "ipython",
    "version": 3
   },
   "file_extension": ".py",
   "mimetype": "text/x-python",
   "name": "python",
   "nbconvert_exporter": "python",
   "pygments_lexer": "ipython3",
   "version": "3.9.9"
  }
 },
 "nbformat": 4,
 "nbformat_minor": 5
}
