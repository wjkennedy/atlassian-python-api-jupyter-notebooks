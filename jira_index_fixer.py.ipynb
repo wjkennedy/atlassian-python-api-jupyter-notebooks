{
 "cells": [
  {
   "cell_type": "markdown",
   "id": "7ab4f3e2",
   "metadata": {},
   "source": [
    "# Atlassian Jira Jupyter Tests: jira_index_fixer.py\n"
   ]
  },
	{
	   "cell_type": "code",
	   "execution_count": null,
	   "id": "2ca1b50b",
	   "metadata": {},
	   "outputs": [],
	   "source": ["# coding=utf-8\n",
"from atlassian import Jira\n",
"from pprint import pprint\n",
"\n",
"JIRA_NODE_URL = "JIRA_NODES_1"\n",
"JIRA_LOGIN = "admin"\n",
"JIRA_PASSWD = "admin"\n",
"\n",
"\n",
"class IndexFixer(Jira):\n",
"    def deindex_issue(self, issue_id):\n",
"        # own end point to deindex\n",
"        url = "deindexIssue.jsp"\n",
"        params = {"issueId": issue_id}\n",
"        return self.get(url, params=params)\n",
"\n",
"\n",
"s = IndexFixer(url=JIRA_NODE_URL, username=JIRA_LOGIN, password=JIRA_PASSWD)\n",
"response = s.index_checker()\n",
"print("-" * 20)\n",
"pprint(response)\n",
"print("-" * 20)\n",
"fixer = False\n",
"index_orphant_issues_count = response["indexOrphansCount"]\n",
"if index_orphant_issues_count > 0:\n",
"    index_orphant_issues = response["indexOrphans"]\n",
"    for ticket in index_orphant_issues:\n",
"        ticket_id = ticket["issueId"]\n",
"        print("Orphan index for ticket id = {}".format(ticket_id))\n",
"        if fixer:\n",
"            s.deindex_issue(ticket_id)\n",]
	}
 ],
 "metadata": {
  "kernelspec": {
   "display_name": "Python 3 (ipykernel)",
   "language": "python",
   "name": "python3"
  },
  "language_info": {
   "codemirror_mode": {
    "name": "ipython",
    "version": 3
   },
   "file_extension": ".py",
   "mimetype": "text/x-python",
   "name": "python",
   "nbconvert_exporter": "python",
   "pygments_lexer": "ipython3",
   "version": "3.9.9"
  }
 },
 "nbformat": 4,
 "nbformat_minor": 5
}
