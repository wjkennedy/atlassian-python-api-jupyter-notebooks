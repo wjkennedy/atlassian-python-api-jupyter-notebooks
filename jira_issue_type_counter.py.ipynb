{
 "cells": [
  {
   "cell_type": "markdown",
   "id": "7ab4f3e2",
   "metadata": {},
   "source": [
    "# Atlassian Jira Jupyter Tests: jira_issue_type_counter.py\n"
   ]
  },
	{
	   "cell_type": "code",
	   "execution_count": null,
	   "id": "922779d7",
	   "metadata": {},
	   "outputs": [],
	   "source": ["from atlassian import Jira\n",
"\n",
"jira = Jira(url="http://localhost:8080", username="admin", password="admin")\n",
"\n",
"issue_types = jira.get_issue_types()\n",
"print("Enter projects category:")\n",
"category = input()\n",
"\n",
"for i in issue_types:\n",
"\n",
"    issue_type = i["name"]\n",
"    jql_all = 'issuetype = "{0}"'.format(issue_type)\n",
"    number = jira.jql(jql_all)["total"]\n",
"    jql_of_category = 'issuetype = "{0}" AND category = {1}'.format(issue_type, category)\n",
"    number_of_deprecated = jira.jql(jql_of_category)["total"]\n",
"    if number > 0:\n",
"        percent_of_deprecated = number_of_deprecated / number * 100\n",
"    else:\n",
"        percent_of_deprecated = 0\n",
"    percentage = round(percent_of_deprecated, 1)\n",
"    print("{0}, {1}, {2}% of {3}".format(issue_type, number, percentage, category))\n",]
	}
 ],
 "metadata": {
  "kernelspec": {
   "display_name": "Python 3 (ipykernel)",
   "language": "python",
   "name": "python3"
  },
  "language_info": {
   "codemirror_mode": {
    "name": "ipython",
    "version": 3
   },
   "file_extension": ".py",
   "mimetype": "text/x-python",
   "name": "python",
   "nbconvert_exporter": "python",
   "pygments_lexer": "ipython3",
   "version": "3.9.9"
  }
 },
 "nbformat": 4,
 "nbformat_minor": 5
}
