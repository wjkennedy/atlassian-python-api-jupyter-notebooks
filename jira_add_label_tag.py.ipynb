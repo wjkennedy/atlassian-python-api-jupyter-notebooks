{
 "cells": [
  {
   "cell_type": "markdown",
   "id": "7ab4f3e2",
   "metadata": {},
   "source": [
    "# Atlassian Jira Jupyter Tests: jira_add_label_tag.py\n"
   ]
  },
	{
	   "cell_type": "code",
	   "execution_count": null,
	   "id": "caad277e",
	   "metadata": {},
	   "outputs": [],
	   "source": ["# coding=utf-8\n",
"from atlassian import Jira\n",
"\n",
"# This example shoes how to add an additional value to the Labels field\n",
"# without loosing the previously defined ones already defined\n",
"\n",
"issue_key = "TST-1"\n",
"new_tag = "label_to_add_for_test"\n",
"jira = Jira(url="http://localhost:8080", username="admin", password="admin")\n",
"\n",
"\n",
"def jira_add_label(issue_key, new_tag):\n",
"    field_name = "labels"\n",
"    # get value and save\n",
"    field_value = jira.issue_field_value(issue_key, field_name)\n",
"    field_value.append(new_tag)\n",
"    # prepare data like this\n",
"    # https://developer.atlassian.com/server/jira/platform/jira-rest-api-example-edit-issues-6291632\n",
"    field_preparation = {field_name: field_value}\n",
"    # update custom field on destination issue\n",
"    jira.update_issue_field(issue_key, field_preparation)\n",
"\n",
"\n",
"jira_add_label(issue_key, new_tag)\n",]
	}
 ],
 "metadata": {
  "kernelspec": {
   "display_name": "Python 3 (ipykernel)",
   "language": "python",
   "name": "python3"
  },
  "language_info": {
   "codemirror_mode": {
    "name": "ipython",
    "version": 3
   },
   "file_extension": ".py",
   "mimetype": "text/x-python",
   "name": "python",
   "nbconvert_exporter": "python",
   "pygments_lexer": "ipython3",
   "version": "3.9.9"
  }
 },
 "nbformat": 4,
 "nbformat_minor": 5
}
