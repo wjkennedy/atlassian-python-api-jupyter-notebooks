{
 "cells": [
  {
   "cell_type": "markdown",
   "id": "7ab4f3e2",
   "metadata": {},
   "source": [
    "# Atlassian Jira Jupyter Tests: jira_add_components_to_all_projects.py\n"
   ]
  },
	{
	   "cell_type": "code",
	   "execution_count": null,
	   "id": "ebab9b45",
	   "metadata": {},
	   "outputs": [],
	   "source": ["# coding=utf-8\n",
"from atlassian import Jira\n",
"\n",
"jira = Jira(url="http://localhost:8080/", username="jira-administrator", password="admin")\n",
"\n",
"components = ["Data Base", "HTML", "JavaScript"]\n",
"\n",
""""That example show how to create components on all existing projects, only skipping the one in a provided list"""\n",
"\n",
"project_to_skip = ["SI", "SA", "ETA"]\n",
"\n",
"for i in jira.get_all_projects(included_archived=None):\n",
"    if i["key"] in project_to_skip:\n",
"        print("Skipping project {} ".format(i["key"]))\n",
"    else:\n",
"        for j in components:\n",
"            print("Creating in project {} ".format(i["key"]))\n",
"            comp = {"project": i["key"], "name": j}\n",
"            jira.create_component(comp)\n",
"            print("{} - component created ".format(comp.get("name")))\n",]
	}
 ],
 "metadata": {
  "kernelspec": {
   "display_name": "Python 3 (ipykernel)",
   "language": "python",
   "name": "python3"
  },
  "language_info": {
   "codemirror_mode": {
    "name": "ipython",
    "version": 3
   },
   "file_extension": ".py",
   "mimetype": "text/x-python",
   "name": "python",
   "nbconvert_exporter": "python",
   "pygments_lexer": "ipython3",
   "version": "3.9.9"
  }
 },
 "nbformat": 4,
 "nbformat_minor": 5
}
