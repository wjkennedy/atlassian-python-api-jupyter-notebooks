{
 "cells": [
  {
   "cell_type": "markdown",
   "id": "7ab4f3e2",
   "metadata": {},
   "source": [
    "# Atlassian Jira Jupyter Tests: jira_permission_browse_and_work_on_issue_normalizer.py\n"
   ]
  },
	{
	   "cell_type": "code",
	   "execution_count": null,
	   "id": "33448386",
	   "metadata": {},
	   "outputs": [],
	   "source": ["# coding: utf8\n",
"from atlassian import Jira\n",
"\n",
""""\n",
"    That example use for normalizing the permission schemes between\n",
"    BROWSE_PROJECTS and WORK_ON_ISSUES parameters\n",
""""\n",
"\n",
"""" Login part"""\n",
"\n",
"jira = Jira(url="JIRA_URL", username="ATLASSIAN_LOGIN", password="ATLASSIAN_PASSWORD")\n",
"\n",
""""Get all permission schemes ID's"""\n",
"\n",
"permission_schemes = jira.get_all_permissionschemes()\n",
"scheme_id_list = []\n",
"for item in permission_schemes:\n",
"    # Get id's (except default)\n",
"    if item.get("id") != 0:\n",
"        scheme_id_list.append(item.get("id"))\n",
"\n",
""""Make a func for checking permissions matching"""\n",
"\n",
"\n",
"def check_if_permissions_match(permission_id):\n",
"    browse_projects = []\n",
"    work_on_issues = []\n",
"\n",
"    scheme = jira.get_permissionscheme(permission_id, expand="permissions")\n",
"\n",
"    for permission in scheme["permissions"]:\n",
"        permission["holder"].pop("expand", None)\n",
"        if permission["permission"] == "WORK_ON_ISSUES":\n",
"            work_on_issues.append(permission["holder"])\n",
"        elif permission["permission"] == "BROWSE_PROJECTS":\n",
"            browse_projects.append(permission["holder"])\n",
"    if browse_projects == work_on_issues:\n",
"        missing_permissions = False\n",
"    elif not work_on_issues:\n",
"        missing_permissions = browse_projects\n",
"    else:\n",
"        missing_permissions = []\n",
"        for parameter in browse_projects:\n",
"            if parameter in work_on_issues:\n",
"                pass\n",
"            else:\n",
"                missing_permissions.append(parameter)\n",
"    return missing_permissions\n",
"\n",
"\n",
"evaluate_flag = True\n",
"for id in scheme_id_list:\n",
"    result = check_if_permissions_match(id)\n",
"    print(result)\n",
"    if result and evaluate_flag:\n",
"        for item in result:\n",
"            grant = dict(holder=item, permission="WORK_ON_ISSUES")\n",
"            jira.set_permissionscheme_grant(id, grant)\n",]
	}
 ],
 "metadata": {
  "kernelspec": {
   "display_name": "Python 3 (ipykernel)",
   "language": "python",
   "name": "python3"
  },
  "language_info": {
   "codemirror_mode": {
    "name": "ipython",
    "version": 3
   },
   "file_extension": ".py",
   "mimetype": "text/x-python",
   "name": "python",
   "nbconvert_exporter": "python",
   "pygments_lexer": "ipython3",
   "version": "3.9.9"
  }
 },
 "nbformat": 4,
 "nbformat_minor": 5
}
