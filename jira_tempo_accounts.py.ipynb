{
 "cells": [
  {
   "cell_type": "markdown",
   "id": "7ab4f3e2",
   "metadata": {},
   "source": [
    "# Atlassian Jira Jupyter Tests: jira_tempo_accounts.py\n"
   ]
  },
	{
	   "cell_type": "code",
	   "execution_count": null,
	   "id": "2c4af6fb",
	   "metadata": {},
	   "outputs": [],
	   "source": ["# coding=utf-8\n",
"from atlassian import Jira\n",
"\n",
"jira = Jira(url="http://localhost:8080", username="admin", password="admin")\n",
"\n",
"accounts = jira.tempo_account_get_accounts_by_jira_project(project_id="10140")\n",
"for account in accounts:\n",
"    print(account)\n",
"    jira.tempo_account_associate_with_jira_project(account["id"], project_id="10210")\n",]
	}
 ],
 "metadata": {
  "kernelspec": {
   "display_name": "Python 3 (ipykernel)",
   "language": "python",
   "name": "python3"
  },
  "language_info": {
   "codemirror_mode": {
    "name": "ipython",
    "version": 3
   },
   "file_extension": ".py",
   "mimetype": "text/x-python",
   "name": "python",
   "nbconvert_exporter": "python",
   "pygments_lexer": "ipython3",
   "version": "3.9.9"
  }
 },
 "nbformat": 4,
 "nbformat_minor": 5
}
