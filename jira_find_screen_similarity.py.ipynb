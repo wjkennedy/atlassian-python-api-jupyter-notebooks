{
 "cells": [
  {
   "cell_type": "markdown",
   "id": "7ab4f3e2",
   "metadata": {},
   "source": [
    "# Atlassian Jira Jupyter Tests: jira_find_screen_similarity.py\n"
   ]
  },
	{
	   "cell_type": "code",
	   "execution_count": null,
	   "id": "8b500154",
	   "metadata": {},
	   "outputs": [],
	   "source": ["import logging\n",
"\n",
"from atlassian import Jira\n",
"\n",
""""\n",
"    That example shows how to find the same screen fields based on fields number or hash of orders.\n",
"    used python 3 string forms f'{variable}'\n",
""""\n",
"\n",
"logging.basicConfig(level=logging.ERROR)\n",
"\n",
"jira = Jira(url="jira.example.com", username="username", password="********", timeout=10)\n",
"\n",
"\n",
"def extract_count(json):\n",
"    try:\n",
"        # Also convert to int since update_time will be string.  When comparing\n",
"        # strings, "10" is smaller than "2".\n",
"        return int(json["available_fields_count"])\n",
"    except KeyError:\n",
"        return 0\n",
"\n",
"\n",
"all_screens = jira.get_all_screens()\n",
"screens = list()\n",
"count_fields_per_screen = list()\n",
"hashes = list()\n",
"for screen in all_screens:\n",
"    screen_id = screen.get("id")\n",
"    available_screen_fields = jira.get_all_available_screen_fields(screen_id=screen_id)\n",
"    field_ids = [x.get("id") for x in available_screen_fields]\n",
"    number_fields = len(available_screen_fields)\n",
"    hash_field = hash(tuple(field_ids))\n",
"    hashes.append(hash_field)\n",
"    screens.append(\n",
"        {\n",
"            "screen_id": screen_id,\n",
"            "available_fields_count": number_fields,\n",
"            "available_fields_hash": hash_field,\n",
"            "available_fields": field_ids,\n",
"        }\n",
"    )\n",
"    count_fields_per_screen.append(number_fields)\n",
"    print("Number of available screen fields {} for screen with name  {}".format(number_fields, screen.get("name")))\n",
"\n",
"screens.sort(key=extract_count, reverse=True)\n",
"flipped_fields = {}\n",
"\n",
"print("The same screen of fields based on the count")\n",
"for x in screens:\n",
"    if count_fields_per_screen.count(x["available_fields_count"]) > 1:\n",
"        print("Please, check {}/secure/admin/ConfigureFieldScreen.jspa?id={}".format(jira.url, x["screen_id"]))\n",
"\n",
"print("=" * 12)\n",
"print("The same field screens based on the hash")\n",
"for x in screens:\n",
"    if hashes.count(x["available_fields_hash"]) > 1:\n",
"        print("Please, check {}/secure/admin/ConfigureFieldScreen.jspa?id={}".format(jira.url, x["screen_id"]))\n",]
	}
 ],
 "metadata": {
  "kernelspec": {
   "display_name": "Python 3 (ipykernel)",
   "language": "python",
   "name": "python3"
  },
  "language_info": {
   "codemirror_mode": {
    "name": "ipython",
    "version": 3
   },
   "file_extension": ".py",
   "mimetype": "text/x-python",
   "name": "python",
   "nbconvert_exporter": "python",
   "pygments_lexer": "ipython3",
   "version": "3.9.9"
  }
 },
 "nbformat": 4,
 "nbformat_minor": 5
}
