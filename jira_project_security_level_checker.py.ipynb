{
 "cells": [
  {
   "cell_type": "markdown",
   "id": "7ab4f3e2",
   "metadata": {},
   "source": [
    "# Atlassian Jira Jupyter Tests: jira_project_security_level_checker.py\n"
   ]
  },
	{
	   "cell_type": "code",
	   "execution_count": null,
	   "id": "cc49616e",
	   "metadata": {},
	   "outputs": [],
	   "source": ["# coding=utf-8\n",
"import logging\n",
"\n",
"from atlassian import Jira\n",
"\n",
"""" How to get server info with health check"""\n",
"\n",
"jira = Jira(url="http://localhost:2990/", username="admin", password="********")\n",
"\n",
"log = logging.getLogger("com.a9.python.scripts.example")\n",
"logging.basicConfig(level=logging.ERROR)\n",
"\n",
"projects = jira.get_all_projects()\n",
"for project in projects:\n",
"    project_key = project.get("key")\n",
"    try:\n",
"        value = jira.get_project_issue_security_scheme(project_key).get("name") or "None"\n",
"    except Exception as e:\n",
"        log.error(e)\n",
"        value = "None"\n",
"    print(project_key + " has issue security scheme " + value)\n",]
	}
 ],
 "metadata": {
  "kernelspec": {
   "display_name": "Python 3 (ipykernel)",
   "language": "python",
   "name": "python3"
  },
  "language_info": {
   "codemirror_mode": {
    "name": "ipython",
    "version": 3
   },
   "file_extension": ".py",
   "mimetype": "text/x-python",
   "name": "python",
   "nbconvert_exporter": "python",
   "pygments_lexer": "ipython3",
   "version": "3.9.9"
  }
 },
 "nbformat": 4,
 "nbformat_minor": 5
}
