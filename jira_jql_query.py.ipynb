{
 "cells": [
  {
   "cell_type": "markdown",
   "id": "7ab4f3e2",
   "metadata": {},
   "source": [
    "# Atlassian Jira Jupyter Tests: jira_jql_query.py\n"
   ]
  },
	{
	   "cell_type": "code",
	   "execution_count": null,
	   "id": "fd206b48",
	   "metadata": {},
	   "outputs": [],
	   "source": ["# coding=utf-8\n",
"from atlassian import Jira\n",
"\n",
"JQL = "project = DEMO AND status NOT IN (Closed, Resolved) ORDER BY issuekey"\n",
"\n",
"jira = Jira(url="http://localhost:8080", username="admin", password="admin")\n",
"\n",
"data = jira.jql(JQL)\n",
"print(data)\n",]
	}
 ],
 "metadata": {
  "kernelspec": {
   "display_name": "Python 3 (ipykernel)",
   "language": "python",
   "name": "python3"
  },
  "language_info": {
   "codemirror_mode": {
    "name": "ipython",
    "version": 3
   },
   "file_extension": ".py",
   "mimetype": "text/x-python",
   "name": "python",
   "nbconvert_exporter": "python",
   "pygments_lexer": "ipython3",
   "version": "3.9.9"
  }
 },
 "nbformat": 4,
 "nbformat_minor": 5
}
